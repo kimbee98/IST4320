{
 "cells": [
  {
   "cell_type": "markdown",
   "id": "1f2edfb3",
   "metadata": {},
   "source": [
    "Lab 04 - [Kimberly] [Brown]"
   ]
  },
  {
   "cell_type": "markdown",
   "id": "71a6fae4",
   "metadata": {},
   "source": [
    "Date - [March] [12] 2023"
   ]
  },
  {
   "cell_type": "code",
   "execution_count": 1,
   "id": "f45826c5",
   "metadata": {},
   "outputs": [],
   "source": [
    "#Load in libraries\n"
   ]
  },
  {
   "cell_type": "markdown",
   "id": "40622a05",
   "metadata": {},
   "source": [
    "Howdy hey lets started with the lab today!🤠 ... sorry 😔"
   ]
  },
  {
   "cell_type": "markdown",
   "id": "8983bdc6",
   "metadata": {},
   "source": [
    "The goal of this lab is to implement what you've learned this week about tuples and regex to survive a ~hypothetical~ zombie apocalypse."
   ]
  },
  {
   "cell_type": "markdown",
   "id": "e0083f39",
   "metadata": {},
   "source": [
    "Sometime in the year 2023...\n",
    "\n",
    "On your way to class you look out the car window to see a human that looks...ill. Being the good citizen you are, you stop to see whats wrong. As you approach them, they lunge forward aggressively and bite you. Moments later a gunshot from behind you can be heard and the..thing in front of you falls to the ground. \"You should probably be more careful\" a deep voice says angrily. You turn around to see a tall man clothed in what looks like a dozen layers of clothing and a mask holding a rifle. \"Did it get ya\"? Looking down you see a large red bite that appears to be growing on your arm. The man in horror, quickly pulls out a piece of paper in one of his jackets and hands it to you before running away. "
   ]
  },
  {
   "cell_type": "markdown",
   "id": "0f35f0ae",
   "metadata": {},
   "source": [
    "The note reads:\n",
    "\n",
    "Dr. Snowden\n",
    "We've finally done it. We got the perfect dose needed to culture the bacteria for years. We're sending it to corporate now for review. Great things are to come. Please call me as soon as possible.\n",
    "\n",
    "Dr. Sans\n",
    "Augmented Genetics Laboratory\n",
    "1489 Bayer Drive, San Francisco California\n",
    "Tel: 415-556-990\n",
    "Tel: 415-779-900"
   ]
  },
  {
   "cell_type": "markdown",
   "id": "596b9a2c",
   "metadata": {},
   "source": [
    "Tasks\n",
    "1. Use regex to extract the name \"Dr. Sans\" and the phone number \"415-556-990\" from the note and put the contact information into a dictionary\n",
    "2. Add the second number to the dictionary with the name John Doe\n",
    "3. Extract the names from the dictionary and put the in a tuple called \"names\"\n",
    "4. Extract the phone numbers from the dictionary and put the in a tuple called \"phoneNumbers\"\n",
    "5. Use the search(), match(), and findall() regex functions to extract new information from the note. \n",
    "\n",
    "Answer the following questions:\n",
    "1. Comapre and contrast tuples and lists\n",
    "2. What are some ways we can make tuples?\n",
    "3. How do we add elements to tuples?"
   ]
  },
  {
   "cell_type": "code",
   "execution_count": 5,
   "id": "e1a174ac",
   "metadata": {
    "tags": []
   },
   "outputs": [
    {
     "name": "stdout",
     "output_type": "stream",
     "text": [
      "{'Dr. Sans': 'Tel: 415-556-990'}\n",
      "{'Dr. Sans': 'Tel: 415-556-990', 'John Doe': '415-779-900'}\n",
      "('Dr. Sans', 'John Doe')\n",
      "('Tel: 415-556-990', '415-779-900')\n",
      "<re.Match object; span=(80, 88), match='bacteria'>\n",
      "<re.Match object; span=(0, 11), match='Dr. Snowden'>\n",
      "['1489', '415', '556', '990']\n"
     ]
    }
   ],
   "source": [
    "import re\n",
    "\n",
    "note = '''Dr. Snowden weve finally done it. We got the perfect dose needed to culture the bacteria for years. We're sending it to corporate now for review. Great things are to come. Please call me as soon as possible.\n",
    "\n",
    "Dr. Sans\n",
    "Augmented Genetics Laboratory\n",
    "1489 Bayer Drive, San Francisco California\n",
    "Tel: 415-556-990'''\n",
    "\n",
    "\n",
    "contact_info = {}\n",
    "name_match = re.search(r'Dr\\. Sans', note)\n",
    "phone_match = re.search(r'Tel: 415-556-990', note)\n",
    "if name_match and phone_match:\n",
    "    contact_info[name_match.group(0)] = phone_match.group(0)\n",
    "print(contact_info)\n",
    "\n",
    "\n",
    "contact_info['John Doe'] = '415-779-900'\n",
    "print(contact_info)\n",
    "\n",
    "\n",
    "names = tuple(contact_info.keys())\n",
    "print(names)\n",
    "\n",
    "\n",
    "phoneNumbers = tuple(contact_info.values())\n",
    "print(phoneNumbers)\n",
    "\n",
    "\n",
    "search_example = re.search(r\"bacteria\", note)\n",
    "print(search_example)\n",
    "\n",
    "match_example = re.match(r\"Dr\\. (\\w+)\", note)\n",
    "print(match_example)\n",
    "\n",
    "numbers_only = re.findall(r'\\d+', note)\n",
    "print(numbers_only)\n"
   ]
  },
  {
   "cell_type": "markdown",
   "id": "1d072507-62c7-4bf1-998c-448ee2a30651",
   "metadata": {},
   "source": [
    "1. Tuples are immutable, used for smaller data, and are defined using (). Lists are mutable, used for larger data, and are defined using [].\n",
    "2. We can make tuples using the tuple() function, using a comma to separate values, and by using parantheses.\n",
    "3. You can cast strings or lists to tuples, however you cannot add elements to tuples. You can create a new tuple by adding multiple tuples together."
   ]
  }
 ],
 "metadata": {
  "kernelspec": {
   "display_name": "Python 3 (ipykernel)",
   "language": "python",
   "name": "python3"
  },
  "language_info": {
   "codemirror_mode": {
    "name": "ipython",
    "version": 3
   },
   "file_extension": ".py",
   "mimetype": "text/x-python",
   "name": "python",
   "nbconvert_exporter": "python",
   "pygments_lexer": "ipython3",
   "version": "3.10.9"
  }
 },
 "nbformat": 4,
 "nbformat_minor": 5
}
